{
 "cells": [
  {
   "cell_type": "code",
   "execution_count": null,
   "metadata": {
    "collapsed": true
   },
   "outputs": [],
   "source": [
    "try:\n",
    "    import pandas as pd\n",
    "    import os\n",
    "    from graphviz import Digraph\n",
    "    import textwrap\n",
    "    import argparse\n",
    "    import itertools\n",
    "except:\n",
    "    import os\n",
    "    os.system('pip install -r ./requirements.txt')\n",
    "    import pandas as pd\n",
    "    from graphviz import Digraph\n",
    "    import textwrap\n",
    "    import argparse\n",
    "    import itertools"
   ]
  },
  {
   "cell_type": "code",
   "execution_count": null,
   "outputs": [],
   "source": [
    "class critical_path_analyzer():\n",
    "    def __init__(self, **kwargs):\n",
    "        file = kwargs.get('file', 'bicycle_data.csv')\n",
    "        csv_path = kwargs.get('csv_path', os.path.join(os.getcwd(), file))\n",
    "        self.tasks = pd.read_csv(csv_path)\n",
    "        self.tasks['Predecessors'] = self.tasks['Predecessors'].fillna(value='None')\n",
    "        self.tasks['expected_value'] = (self.tasks['Most Likely'] * 2 + self.tasks['Optimistic'] + self.tasks[\n",
    "            'Pessimistic']) / 6\n",
    "        self.output_file_type = kwargs.get('output_file_type', 'png')\n",
    "        if self.output_file_type is None:\n",
    "            self.output_file_type = 'png'\n",
    "\n",
    "        self.name = kwargs.get('name', 'initial')\n",
    "        self.task_duration_col = kwargs.get('task_duration_col', 'expected_value')\n",
    "        if self.task_duration_col is None:\n",
    "            self.task_duration_col = 'expected_value'\n",
    "\n",
    "        self.all_paths = [[]]\n",
    "        self.critical_path = []\n",
    "        self.get_critical_path()\n",
    "        self.dot = self.make_graph()\n",
    "        self.tasks.to_csv(f'{self.name}.csv')\n",
    "\n",
    "        print(f\"critical path is: {self.critical_path}\")\n",
    "        print(f\"critical path based on {self.task_duration_col} is {round(self.critical_path_val,1)}\")\n",
    "\n",
    "    def wrap_text(self, text, length=20):\n",
    "        wrapper = textwrap.TextWrapper(width=length)\n",
    "        word_list = wrapper.wrap(text=text)\n",
    "        return '\\n'.join(word_list)\n",
    "\n",
    "    def flatten(self, list):\n",
    "        flat_list = []\n",
    "        for sublist in list:\n",
    "            for item in sublist.split(','):\n",
    "                flat_list.append(item)\n",
    "        return flat_list\n",
    "\n",
    "    def make_graph(self):\n",
    "        tasks, name, task_duration_col = self.tasks, self.name, self.task_duration_col\n",
    "\n",
    "        file_name = os.path.join(os.getcwd(), f'{name}.gv')\n",
    "\n",
    "        dot = Digraph(format=self.output_file_type)\n",
    "        dot.attr(rankdir='LR')\n",
    "        edges = []\n",
    "        for i, r in tasks.iterrows():\n",
    "            task_name = r['Activity Tasks'] + '\\n'\n",
    "            task_name += self.wrap_text(r['Task Name'], 20)\n",
    "            task_name += f\"\\n {round(r[self.task_duration_col], 1)}\"\n",
    "            if r['critical_task']:\n",
    "                dot.attr('node', shape='ellipse', style='filled', fillcolor='blue', fontcolor='white')\n",
    "            else:\n",
    "                dot.attr('node', shape='ellipse', style='filled', fillcolor='yellow', fontcolor='black')\n",
    "\n",
    "            dot.node(r['Activity Tasks'], task_name)\n",
    "            if r['Predecessors'] != 'None':\n",
    "                for pred in r['Predecessors'].split(','):\n",
    "                    edges.append(pred + r['Activity Tasks'])\n",
    "        dot.edges(edges)\n",
    "        dot.render(file_name)\n",
    "        return dot\n",
    "\n",
    "    def sum_path(self, path_list):\n",
    "        task_df = self.tasks\n",
    "        # print(self.task_duration_col)\n",
    "        df = task_df[task_df['Activity Tasks'].isin(path_list)]\n",
    "        try:\n",
    "            return df[self.task_duration_col].sum()\n",
    "        except Exception as e:\n",
    "            print(df.columns)\n",
    "            raise Exception(e)\n",
    "\n",
    "    def depthFirst(self, graph, currentVertex, visited):\n",
    "        visited.append(currentVertex)\n",
    "        # print(graph[currentVertex])\n",
    "        for vertex in graph[currentVertex]:\n",
    "            if vertex not in visited:\n",
    "               self.depthFirst(graph, vertex, visited.copy())\n",
    "        self.all_paths.append(visited)\n",
    "        # pulled form https://stackoverflow.com/questions/62656477/python-get-all-paths-from-graph\n",
    "\n",
    "    def get_critical_path(self):\n",
    "        graph = self.tasks[['Activity Tasks', 'Predecessors']]\n",
    "        graph_d = {}\n",
    "        for i, r in graph.iterrows():\n",
    "            graph_d[r['Activity Tasks']] = r['Predecessors'].split(',') if r['Predecessors'] != 'None' else []\n",
    "        # print(graph_d)\n",
    "        self.depthFirst(graph_d, 'T', self.all_paths)\n",
    "        self.critical_path_val = 0\n",
    "        for i, path in enumerate(self.all_paths):\n",
    "            if 'A' not in path:\n",
    "                continue\n",
    "            path = [p for p in path if p != []]\n",
    "\n",
    "            val = self.sum_path(path)\n",
    "            if val > self.critical_path_val:\n",
    "                self.critical_path_val = val\n",
    "                self.critical_path = path\n",
    "\n",
    "        self.tasks['critical_task'] = self.tasks['Activity Tasks'].isin(self.critical_path)\n",
    "        return self.critical_path"
   ],
   "metadata": {
    "collapsed": false,
    "pycharm": {
     "name": "#%%\n"
    }
   }
  },
  {
   "cell_type": "code",
   "execution_count": null,
   "outputs": [],
   "source": [
    "args = {\n",
    "    'file': 'bicycle_data.csv',\n",
    "    'name': 'initial',\n",
    "    'task_duragion_column': 'optimistic'\n",
    "}"
   ],
   "metadata": {
    "collapsed": false,
    "pycharm": {
     "name": "#%%\n"
    }
   }
  },
  {
   "cell_type": "code",
   "execution_count": null,
   "outputs": [],
   "source": [
    "critical_path_analyzer(**args)"
   ],
   "metadata": {
    "collapsed": false,
    "pycharm": {
     "name": "#%%\n"
    }
   }
  }
 ],
 "metadata": {
  "kernelspec": {
   "display_name": "Python 3",
   "language": "python",
   "name": "python3"
  },
  "language_info": {
   "codemirror_mode": {
    "name": "ipython",
    "version": 2
   },
   "file_extension": ".py",
   "mimetype": "text/x-python",
   "name": "python",
   "nbconvert_exporter": "python",
   "pygments_lexer": "ipython2",
   "version": "2.7.6"
  }
 },
 "nbformat": 4,
 "nbformat_minor": 0
}